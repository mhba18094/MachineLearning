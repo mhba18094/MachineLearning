{
 "cells": [
  {
   "cell_type": "code",
   "execution_count": 45,
   "metadata": {},
   "outputs": [],
   "source": [
    "import numpy as np\n",
    "from sklearn.linear_model import SGDRegressor,LinearRegression\n",
    "from sklearn.preprocessing import StandardScaler,PolynomialFeatures\n",
    "from sklearn.model_selection import train_test_split\n",
    "from sklearn.metrics import classification_report\n",
    "from sklearn.feature_selection import RFE\n",
    "import pandas\n",
    "import matplotlib.pyplot as plt"
   ]
  },
  {
   "cell_type": "code",
   "execution_count": 46,
   "metadata": {},
   "outputs": [],
   "source": [
    "def load_data():\n",
    "    data = pandas.read_csv('Housing.csv')\n",
    "    data.replace(['yes','no','furnished','semi-furnished','unfurnished'],value=[1,0,1,0.5,0],inplace=True)\n",
    "    y = data.iloc[1:,0]\n",
    "    x = data.iloc[1:,1:]\n",
    "    return x,y\n",
    "\n"
   ]
  },
  {
   "cell_type": "code",
   "execution_count": 47,
   "metadata": {},
   "outputs": [
    {
     "data": {
      "text/plain": [
       "0.7386560845083258"
      ]
     },
     "execution_count": 47,
     "metadata": {},
     "output_type": "execute_result"
    }
   ],
   "source": [
    "x,y=load_data()\n",
    "\n",
    "x,xTest,y,yTest = train_test_split(x,y,random_state=42,test_size=0.25,shuffle=True)\n",
    "scaler = StandardScaler()\n",
    "xNorm = scaler.fit_transform(x)\n",
    "# poly_reg=PolynomialFeatures(degree=3)\n",
    "# X_poly=poly_reg.fit_transform(xNorm)\n",
    "# poly_reg.fit(X_poly,y)\n",
    "# lin_reg2=LinearRegression()\n",
    "# lin_reg2.fit(X_poly,y)\n",
    "# model = LinearRegression()\n",
    "# model.fit(xNorm[:,0].reshape(-1,1),y)\n",
    "# print(x)\n",
    "rfe = RFE(estimator=LinearRegression(),n_features_to_select=12)\n",
    "rfe = rfe.fit(x,y)\n",
    "rfe.score(xTest,yTest)"
   ]
  }
 ],
 "metadata": {
  "kernelspec": {
   "display_name": "Python 3",
   "language": "python",
   "name": "python3"
  },
  "language_info": {
   "codemirror_mode": {
    "name": "ipython",
    "version": 3
   },
   "file_extension": ".py",
   "mimetype": "text/x-python",
   "name": "python",
   "nbconvert_exporter": "python",
   "pygments_lexer": "ipython3",
   "version": "3.12.0"
  }
 },
 "nbformat": 4,
 "nbformat_minor": 2
}
