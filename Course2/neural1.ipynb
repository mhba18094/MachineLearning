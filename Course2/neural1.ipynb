{
  "cells": [
    {
      "cell_type": "code",
      "execution_count": 78,
      "metadata": {
        "id": "devjU0_exZNe"
      },
      "outputs": [],
      "source": [
        "import numpy as np\n",
        "import tensorflow as tf\n",
        "from tensorflow.keras.models import Sequential\n",
        "from tensorflow.keras.layers import Dense\n",
        "from sklearn.model_selection import train_test_split"
      ]
    },
    {
      "cell_type": "code",
      "execution_count": 79,
      "metadata": {
        "id": "Fc8xJ3__xZNg"
      },
      "outputs": [],
      "source": [
        "def load_coffee_data():\n",
        "    \"\"\" Creates a coffee roasting data set.\n",
        "        roasting duration: 12-15 minutes is best\n",
        "        temperature range: 175-260C is best\n",
        "    \"\"\"\n",
        "    rng = np.random.default_rng(2)\n",
        "    X = rng.random(400).reshape(-1,2)\n",
        "    X[:,1] = X[:,1] * 4 + 11.5          # 12-15 min is best\n",
        "    X[:,0] = X[:,0] * (285-150) + 150  # 350-500 F (175-260 C) is best\n",
        "    Y = np.zeros(len(X))\n",
        "\n",
        "    i=0\n",
        "    for t,d in X:\n",
        "        y = -3/(260-175)*t + 21\n",
        "        if (t > 175 and t < 260 and d > 12 and d < 15 and d<=y ):\n",
        "            Y[i] = 1\n",
        "        else:\n",
        "            Y[i] = 0\n",
        "        i += 1\n",
        "\n",
        "    return (X, Y.reshape(-1,1))"
      ]
    },
    {
      "cell_type": "code",
      "execution_count": 80,
      "metadata": {
        "id": "pVHzemqpxZNh"
      },
      "outputs": [],
      "source": [
        "def dense(x,w,b):\n",
        "    z = np.matmul(x,w) + b\n",
        "    z = z.astype(np.float128)\n",
        "    return (1/(1+np.exp(-z)))"
      ]
    },
    {
      "cell_type": "code",
      "execution_count": 81,
      "metadata": {
        "colab": {
          "base_uri": "https://localhost:8080/"
        },
        "id": "Hy03lo_OxZNi",
        "outputId": "6370e407-2d28-47d3-e16e-44ada7c36a9f"
      },
      "outputs": [
        {
          "output_type": "stream",
          "name": "stdout",
          "text": [
            "(150, 2)\n"
          ]
        }
      ],
      "source": [
        "x,y = load_coffee_data()\n",
        "\n",
        "x,xTest,y,yTest = train_test_split(x,y,random_state=42,test_size=0.25,shuffle=True)\n",
        "print(x.shape)"
      ]
    },
    {
      "cell_type": "code",
      "execution_count": 82,
      "metadata": {
        "id": "NF8WjimCxZNj"
      },
      "outputs": [],
      "source": [
        "W1_tmp = np.array( [[-8.93,  0.29, 12.9 ], [-0.1,  -7.32, 10.81]] )\n",
        "b1_tmp = np.array( [-9.82, -9.28,  0.96] )\n",
        "a1 = dense(x,W1_tmp,b1_tmp)\n",
        "\n",
        "W2_tmp = np.array( [[-31.18], [-27.59], [-32.56]] )\n",
        "b2_tmp = np.array( [15.41] )\n",
        "a2 = dense(a1,W2_tmp,b2_tmp)\n"
      ]
    },
    {
      "cell_type": "code",
      "execution_count": 85,
      "metadata": {
        "colab": {
          "base_uri": "https://localhost:8080/"
        },
        "id": "qggPJgm1xZNj",
        "outputId": "865ea2c3-700b-45a6-8a8e-abe50a3e9ff2"
      },
      "outputs": [
        {
          "output_type": "stream",
          "name": "stdout",
          "text": [
            "78.0\n"
          ]
        }
      ],
      "source": [
        "for i in range(a2.shape[0]):\n",
        "    if(a2[i]<0.5):\n",
        "        a2[i]=0\n",
        "    else:\n",
        "        a2[i]=1\n",
        "\n",
        "#prediction for test data\n",
        "atest1 = dense(xTest,W1_tmp,b1_tmp)\n",
        "atest2 = dense(atest1,W2_tmp,b2_tmp)\n",
        "\n",
        "for i in range(atest2.shape[0]):\n",
        "    if(atest2[i]<0.5):\n",
        "        atest2[i]=0\n",
        "    else:\n",
        "        atest2[i]=1\n",
        "\n",
        "counter=0\n",
        "for i in range(atest2.shape[0]):\n",
        "    if(atest2[i]==yTest[i]):\n",
        "      counter+=1\n",
        "print((counter/atest2.shape[0])*100)\n"
      ]
    }
  ],
  "metadata": {
    "kernelspec": {
      "display_name": "Python 3",
      "language": "python",
      "name": "python3"
    },
    "language_info": {
      "codemirror_mode": {
        "name": "ipython",
        "version": 3
      },
      "file_extension": ".py",
      "mimetype": "text/x-python",
      "name": "python",
      "nbconvert_exporter": "python",
      "pygments_lexer": "ipython3",
      "version": "3.12.0"
    },
    "colab": {
      "provenance": []
    }
  },
  "nbformat": 4,
  "nbformat_minor": 0
}